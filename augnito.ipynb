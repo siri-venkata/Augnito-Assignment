{
  "nbformat": 4,
  "nbformat_minor": 0,
  "metadata": {
    "colab": {
      "provenance": [],
      "gpuType": "T4"
    },
    "kernelspec": {
      "name": "python3",
      "display_name": "Python 3"
    },
    "language_info": {
      "name": "python"
    },
    "accelerator": "GPU",
    "widgets": {
      "application/vnd.jupyter.widget-state+json": {
        "206575f0b4284df3b3f440d73e1d4021": {
          "model_module": "@jupyter-widgets/controls",
          "model_name": "HBoxModel",
          "model_module_version": "1.5.0",
          "state": {
            "_dom_classes": [],
            "_model_module": "@jupyter-widgets/controls",
            "_model_module_version": "1.5.0",
            "_model_name": "HBoxModel",
            "_view_count": null,
            "_view_module": "@jupyter-widgets/controls",
            "_view_module_version": "1.5.0",
            "_view_name": "HBoxView",
            "box_style": "",
            "children": [
              "IPY_MODEL_2ab2b1a2e985474784378ede8865857c",
              "IPY_MODEL_f6e6b23fc79a49d985facdcfe19397b0",
              "IPY_MODEL_d8630bab0ded4beebbf3a4b76178a466"
            ],
            "layout": "IPY_MODEL_1c0fc8d8a2944ef9b90105b602c7ced6"
          }
        },
        "2ab2b1a2e985474784378ede8865857c": {
          "model_module": "@jupyter-widgets/controls",
          "model_name": "HTMLModel",
          "model_module_version": "1.5.0",
          "state": {
            "_dom_classes": [],
            "_model_module": "@jupyter-widgets/controls",
            "_model_module_version": "1.5.0",
            "_model_name": "HTMLModel",
            "_view_count": null,
            "_view_module": "@jupyter-widgets/controls",
            "_view_module_version": "1.5.0",
            "_view_name": "HTMLView",
            "description": "",
            "description_tooltip": null,
            "layout": "IPY_MODEL_4e03af44d87b4b85860a96512b825fb9",
            "placeholder": "​",
            "style": "IPY_MODEL_b9f86bb712c74972a9f33b5e51e6abc8",
            "value": "Map: 100%"
          }
        },
        "f6e6b23fc79a49d985facdcfe19397b0": {
          "model_module": "@jupyter-widgets/controls",
          "model_name": "FloatProgressModel",
          "model_module_version": "1.5.0",
          "state": {
            "_dom_classes": [],
            "_model_module": "@jupyter-widgets/controls",
            "_model_module_version": "1.5.0",
            "_model_name": "FloatProgressModel",
            "_view_count": null,
            "_view_module": "@jupyter-widgets/controls",
            "_view_module_version": "1.5.0",
            "_view_name": "ProgressView",
            "bar_style": "success",
            "description": "",
            "description_tooltip": null,
            "layout": "IPY_MODEL_6c7f375cc4f74702b4c8ee4da5a58ed7",
            "max": 8086,
            "min": 0,
            "orientation": "horizontal",
            "style": "IPY_MODEL_f55dd4a3d65e4966b248b5137752fdb9",
            "value": 8086
          }
        },
        "d8630bab0ded4beebbf3a4b76178a466": {
          "model_module": "@jupyter-widgets/controls",
          "model_name": "HTMLModel",
          "model_module_version": "1.5.0",
          "state": {
            "_dom_classes": [],
            "_model_module": "@jupyter-widgets/controls",
            "_model_module_version": "1.5.0",
            "_model_name": "HTMLModel",
            "_view_count": null,
            "_view_module": "@jupyter-widgets/controls",
            "_view_module_version": "1.5.0",
            "_view_name": "HTMLView",
            "description": "",
            "description_tooltip": null,
            "layout": "IPY_MODEL_b16cba858b77469aa32ad7129ae5e5f6",
            "placeholder": "​",
            "style": "IPY_MODEL_ab9ad7211fad4645ae4717fdac1544ab",
            "value": " 8086/8086 [00:20&lt;00:00, 550.79 examples/s]"
          }
        },
        "1c0fc8d8a2944ef9b90105b602c7ced6": {
          "model_module": "@jupyter-widgets/base",
          "model_name": "LayoutModel",
          "model_module_version": "1.2.0",
          "state": {
            "_model_module": "@jupyter-widgets/base",
            "_model_module_version": "1.2.0",
            "_model_name": "LayoutModel",
            "_view_count": null,
            "_view_module": "@jupyter-widgets/base",
            "_view_module_version": "1.2.0",
            "_view_name": "LayoutView",
            "align_content": null,
            "align_items": null,
            "align_self": null,
            "border": null,
            "bottom": null,
            "display": null,
            "flex": null,
            "flex_flow": null,
            "grid_area": null,
            "grid_auto_columns": null,
            "grid_auto_flow": null,
            "grid_auto_rows": null,
            "grid_column": null,
            "grid_gap": null,
            "grid_row": null,
            "grid_template_areas": null,
            "grid_template_columns": null,
            "grid_template_rows": null,
            "height": null,
            "justify_content": null,
            "justify_items": null,
            "left": null,
            "margin": null,
            "max_height": null,
            "max_width": null,
            "min_height": null,
            "min_width": null,
            "object_fit": null,
            "object_position": null,
            "order": null,
            "overflow": null,
            "overflow_x": null,
            "overflow_y": null,
            "padding": null,
            "right": null,
            "top": null,
            "visibility": null,
            "width": null
          }
        },
        "4e03af44d87b4b85860a96512b825fb9": {
          "model_module": "@jupyter-widgets/base",
          "model_name": "LayoutModel",
          "model_module_version": "1.2.0",
          "state": {
            "_model_module": "@jupyter-widgets/base",
            "_model_module_version": "1.2.0",
            "_model_name": "LayoutModel",
            "_view_count": null,
            "_view_module": "@jupyter-widgets/base",
            "_view_module_version": "1.2.0",
            "_view_name": "LayoutView",
            "align_content": null,
            "align_items": null,
            "align_self": null,
            "border": null,
            "bottom": null,
            "display": null,
            "flex": null,
            "flex_flow": null,
            "grid_area": null,
            "grid_auto_columns": null,
            "grid_auto_flow": null,
            "grid_auto_rows": null,
            "grid_column": null,
            "grid_gap": null,
            "grid_row": null,
            "grid_template_areas": null,
            "grid_template_columns": null,
            "grid_template_rows": null,
            "height": null,
            "justify_content": null,
            "justify_items": null,
            "left": null,
            "margin": null,
            "max_height": null,
            "max_width": null,
            "min_height": null,
            "min_width": null,
            "object_fit": null,
            "object_position": null,
            "order": null,
            "overflow": null,
            "overflow_x": null,
            "overflow_y": null,
            "padding": null,
            "right": null,
            "top": null,
            "visibility": null,
            "width": null
          }
        },
        "b9f86bb712c74972a9f33b5e51e6abc8": {
          "model_module": "@jupyter-widgets/controls",
          "model_name": "DescriptionStyleModel",
          "model_module_version": "1.5.0",
          "state": {
            "_model_module": "@jupyter-widgets/controls",
            "_model_module_version": "1.5.0",
            "_model_name": "DescriptionStyleModel",
            "_view_count": null,
            "_view_module": "@jupyter-widgets/base",
            "_view_module_version": "1.2.0",
            "_view_name": "StyleView",
            "description_width": ""
          }
        },
        "6c7f375cc4f74702b4c8ee4da5a58ed7": {
          "model_module": "@jupyter-widgets/base",
          "model_name": "LayoutModel",
          "model_module_version": "1.2.0",
          "state": {
            "_model_module": "@jupyter-widgets/base",
            "_model_module_version": "1.2.0",
            "_model_name": "LayoutModel",
            "_view_count": null,
            "_view_module": "@jupyter-widgets/base",
            "_view_module_version": "1.2.0",
            "_view_name": "LayoutView",
            "align_content": null,
            "align_items": null,
            "align_self": null,
            "border": null,
            "bottom": null,
            "display": null,
            "flex": null,
            "flex_flow": null,
            "grid_area": null,
            "grid_auto_columns": null,
            "grid_auto_flow": null,
            "grid_auto_rows": null,
            "grid_column": null,
            "grid_gap": null,
            "grid_row": null,
            "grid_template_areas": null,
            "grid_template_columns": null,
            "grid_template_rows": null,
            "height": null,
            "justify_content": null,
            "justify_items": null,
            "left": null,
            "margin": null,
            "max_height": null,
            "max_width": null,
            "min_height": null,
            "min_width": null,
            "object_fit": null,
            "object_position": null,
            "order": null,
            "overflow": null,
            "overflow_x": null,
            "overflow_y": null,
            "padding": null,
            "right": null,
            "top": null,
            "visibility": null,
            "width": null
          }
        },
        "f55dd4a3d65e4966b248b5137752fdb9": {
          "model_module": "@jupyter-widgets/controls",
          "model_name": "ProgressStyleModel",
          "model_module_version": "1.5.0",
          "state": {
            "_model_module": "@jupyter-widgets/controls",
            "_model_module_version": "1.5.0",
            "_model_name": "ProgressStyleModel",
            "_view_count": null,
            "_view_module": "@jupyter-widgets/base",
            "_view_module_version": "1.2.0",
            "_view_name": "StyleView",
            "bar_color": null,
            "description_width": ""
          }
        },
        "b16cba858b77469aa32ad7129ae5e5f6": {
          "model_module": "@jupyter-widgets/base",
          "model_name": "LayoutModel",
          "model_module_version": "1.2.0",
          "state": {
            "_model_module": "@jupyter-widgets/base",
            "_model_module_version": "1.2.0",
            "_model_name": "LayoutModel",
            "_view_count": null,
            "_view_module": "@jupyter-widgets/base",
            "_view_module_version": "1.2.0",
            "_view_name": "LayoutView",
            "align_content": null,
            "align_items": null,
            "align_self": null,
            "border": null,
            "bottom": null,
            "display": null,
            "flex": null,
            "flex_flow": null,
            "grid_area": null,
            "grid_auto_columns": null,
            "grid_auto_flow": null,
            "grid_auto_rows": null,
            "grid_column": null,
            "grid_gap": null,
            "grid_row": null,
            "grid_template_areas": null,
            "grid_template_columns": null,
            "grid_template_rows": null,
            "height": null,
            "justify_content": null,
            "justify_items": null,
            "left": null,
            "margin": null,
            "max_height": null,
            "max_width": null,
            "min_height": null,
            "min_width": null,
            "object_fit": null,
            "object_position": null,
            "order": null,
            "overflow": null,
            "overflow_x": null,
            "overflow_y": null,
            "padding": null,
            "right": null,
            "top": null,
            "visibility": null,
            "width": null
          }
        },
        "ab9ad7211fad4645ae4717fdac1544ab": {
          "model_module": "@jupyter-widgets/controls",
          "model_name": "DescriptionStyleModel",
          "model_module_version": "1.5.0",
          "state": {
            "_model_module": "@jupyter-widgets/controls",
            "_model_module_version": "1.5.0",
            "_model_name": "DescriptionStyleModel",
            "_view_count": null,
            "_view_module": "@jupyter-widgets/base",
            "_view_module_version": "1.2.0",
            "_view_name": "StyleView",
            "description_width": ""
          }
        },
        "fbc4f9baa1a04974b762208ed9fefa86": {
          "model_module": "@jupyter-widgets/controls",
          "model_name": "HBoxModel",
          "model_module_version": "1.5.0",
          "state": {
            "_dom_classes": [],
            "_model_module": "@jupyter-widgets/controls",
            "_model_module_version": "1.5.0",
            "_model_name": "HBoxModel",
            "_view_count": null,
            "_view_module": "@jupyter-widgets/controls",
            "_view_module_version": "1.5.0",
            "_view_name": "HBoxView",
            "box_style": "",
            "children": [
              "IPY_MODEL_51632b279cca4cab847a686689dd95ec",
              "IPY_MODEL_1de6920a63c7456a90ecdfe7a69c485a",
              "IPY_MODEL_71b2519e4e5a4799964c5a5baa891781"
            ],
            "layout": "IPY_MODEL_d10010f8092d4a65babc481c37ad9168"
          }
        },
        "51632b279cca4cab847a686689dd95ec": {
          "model_module": "@jupyter-widgets/controls",
          "model_name": "HTMLModel",
          "model_module_version": "1.5.0",
          "state": {
            "_dom_classes": [],
            "_model_module": "@jupyter-widgets/controls",
            "_model_module_version": "1.5.0",
            "_model_name": "HTMLModel",
            "_view_count": null,
            "_view_module": "@jupyter-widgets/controls",
            "_view_module_version": "1.5.0",
            "_view_name": "HTMLView",
            "description": "",
            "description_tooltip": null,
            "layout": "IPY_MODEL_d68724fc86ec4deabfd55165cce7f62c",
            "placeholder": "​",
            "style": "IPY_MODEL_2330c26b912c4d7a994dcf926f3099fe",
            "value": "Map: 100%"
          }
        },
        "1de6920a63c7456a90ecdfe7a69c485a": {
          "model_module": "@jupyter-widgets/controls",
          "model_name": "FloatProgressModel",
          "model_module_version": "1.5.0",
          "state": {
            "_dom_classes": [],
            "_model_module": "@jupyter-widgets/controls",
            "_model_module_version": "1.5.0",
            "_model_name": "FloatProgressModel",
            "_view_count": null,
            "_view_module": "@jupyter-widgets/controls",
            "_view_module_version": "1.5.0",
            "_view_name": "ProgressView",
            "bar_style": "success",
            "description": "",
            "description_tooltip": null,
            "layout": "IPY_MODEL_584fa1ec8337450fab74ff0934025847",
            "max": 847,
            "min": 0,
            "orientation": "horizontal",
            "style": "IPY_MODEL_d0b74ecc2f314d08a9aee52f7b4713e4",
            "value": 847
          }
        },
        "71b2519e4e5a4799964c5a5baa891781": {
          "model_module": "@jupyter-widgets/controls",
          "model_name": "HTMLModel",
          "model_module_version": "1.5.0",
          "state": {
            "_dom_classes": [],
            "_model_module": "@jupyter-widgets/controls",
            "_model_module_version": "1.5.0",
            "_model_name": "HTMLModel",
            "_view_count": null,
            "_view_module": "@jupyter-widgets/controls",
            "_view_module_version": "1.5.0",
            "_view_name": "HTMLView",
            "description": "",
            "description_tooltip": null,
            "layout": "IPY_MODEL_fb6b030f798a42989289d62fedee4313",
            "placeholder": "​",
            "style": "IPY_MODEL_e955b8f312914561b081bd8bfaecda04",
            "value": " 847/847 [00:01&lt;00:00, 542.65 examples/s]"
          }
        },
        "d10010f8092d4a65babc481c37ad9168": {
          "model_module": "@jupyter-widgets/base",
          "model_name": "LayoutModel",
          "model_module_version": "1.2.0",
          "state": {
            "_model_module": "@jupyter-widgets/base",
            "_model_module_version": "1.2.0",
            "_model_name": "LayoutModel",
            "_view_count": null,
            "_view_module": "@jupyter-widgets/base",
            "_view_module_version": "1.2.0",
            "_view_name": "LayoutView",
            "align_content": null,
            "align_items": null,
            "align_self": null,
            "border": null,
            "bottom": null,
            "display": null,
            "flex": null,
            "flex_flow": null,
            "grid_area": null,
            "grid_auto_columns": null,
            "grid_auto_flow": null,
            "grid_auto_rows": null,
            "grid_column": null,
            "grid_gap": null,
            "grid_row": null,
            "grid_template_areas": null,
            "grid_template_columns": null,
            "grid_template_rows": null,
            "height": null,
            "justify_content": null,
            "justify_items": null,
            "left": null,
            "margin": null,
            "max_height": null,
            "max_width": null,
            "min_height": null,
            "min_width": null,
            "object_fit": null,
            "object_position": null,
            "order": null,
            "overflow": null,
            "overflow_x": null,
            "overflow_y": null,
            "padding": null,
            "right": null,
            "top": null,
            "visibility": null,
            "width": null
          }
        },
        "d68724fc86ec4deabfd55165cce7f62c": {
          "model_module": "@jupyter-widgets/base",
          "model_name": "LayoutModel",
          "model_module_version": "1.2.0",
          "state": {
            "_model_module": "@jupyter-widgets/base",
            "_model_module_version": "1.2.0",
            "_model_name": "LayoutModel",
            "_view_count": null,
            "_view_module": "@jupyter-widgets/base",
            "_view_module_version": "1.2.0",
            "_view_name": "LayoutView",
            "align_content": null,
            "align_items": null,
            "align_self": null,
            "border": null,
            "bottom": null,
            "display": null,
            "flex": null,
            "flex_flow": null,
            "grid_area": null,
            "grid_auto_columns": null,
            "grid_auto_flow": null,
            "grid_auto_rows": null,
            "grid_column": null,
            "grid_gap": null,
            "grid_row": null,
            "grid_template_areas": null,
            "grid_template_columns": null,
            "grid_template_rows": null,
            "height": null,
            "justify_content": null,
            "justify_items": null,
            "left": null,
            "margin": null,
            "max_height": null,
            "max_width": null,
            "min_height": null,
            "min_width": null,
            "object_fit": null,
            "object_position": null,
            "order": null,
            "overflow": null,
            "overflow_x": null,
            "overflow_y": null,
            "padding": null,
            "right": null,
            "top": null,
            "visibility": null,
            "width": null
          }
        },
        "2330c26b912c4d7a994dcf926f3099fe": {
          "model_module": "@jupyter-widgets/controls",
          "model_name": "DescriptionStyleModel",
          "model_module_version": "1.5.0",
          "state": {
            "_model_module": "@jupyter-widgets/controls",
            "_model_module_version": "1.5.0",
            "_model_name": "DescriptionStyleModel",
            "_view_count": null,
            "_view_module": "@jupyter-widgets/base",
            "_view_module_version": "1.2.0",
            "_view_name": "StyleView",
            "description_width": ""
          }
        },
        "584fa1ec8337450fab74ff0934025847": {
          "model_module": "@jupyter-widgets/base",
          "model_name": "LayoutModel",
          "model_module_version": "1.2.0",
          "state": {
            "_model_module": "@jupyter-widgets/base",
            "_model_module_version": "1.2.0",
            "_model_name": "LayoutModel",
            "_view_count": null,
            "_view_module": "@jupyter-widgets/base",
            "_view_module_version": "1.2.0",
            "_view_name": "LayoutView",
            "align_content": null,
            "align_items": null,
            "align_self": null,
            "border": null,
            "bottom": null,
            "display": null,
            "flex": null,
            "flex_flow": null,
            "grid_area": null,
            "grid_auto_columns": null,
            "grid_auto_flow": null,
            "grid_auto_rows": null,
            "grid_column": null,
            "grid_gap": null,
            "grid_row": null,
            "grid_template_areas": null,
            "grid_template_columns": null,
            "grid_template_rows": null,
            "height": null,
            "justify_content": null,
            "justify_items": null,
            "left": null,
            "margin": null,
            "max_height": null,
            "max_width": null,
            "min_height": null,
            "min_width": null,
            "object_fit": null,
            "object_position": null,
            "order": null,
            "overflow": null,
            "overflow_x": null,
            "overflow_y": null,
            "padding": null,
            "right": null,
            "top": null,
            "visibility": null,
            "width": null
          }
        },
        "d0b74ecc2f314d08a9aee52f7b4713e4": {
          "model_module": "@jupyter-widgets/controls",
          "model_name": "ProgressStyleModel",
          "model_module_version": "1.5.0",
          "state": {
            "_model_module": "@jupyter-widgets/controls",
            "_model_module_version": "1.5.0",
            "_model_name": "ProgressStyleModel",
            "_view_count": null,
            "_view_module": "@jupyter-widgets/base",
            "_view_module_version": "1.2.0",
            "_view_name": "StyleView",
            "bar_color": null,
            "description_width": ""
          }
        },
        "fb6b030f798a42989289d62fedee4313": {
          "model_module": "@jupyter-widgets/base",
          "model_name": "LayoutModel",
          "model_module_version": "1.2.0",
          "state": {
            "_model_module": "@jupyter-widgets/base",
            "_model_module_version": "1.2.0",
            "_model_name": "LayoutModel",
            "_view_count": null,
            "_view_module": "@jupyter-widgets/base",
            "_view_module_version": "1.2.0",
            "_view_name": "LayoutView",
            "align_content": null,
            "align_items": null,
            "align_self": null,
            "border": null,
            "bottom": null,
            "display": null,
            "flex": null,
            "flex_flow": null,
            "grid_area": null,
            "grid_auto_columns": null,
            "grid_auto_flow": null,
            "grid_auto_rows": null,
            "grid_column": null,
            "grid_gap": null,
            "grid_row": null,
            "grid_template_areas": null,
            "grid_template_columns": null,
            "grid_template_rows": null,
            "height": null,
            "justify_content": null,
            "justify_items": null,
            "left": null,
            "margin": null,
            "max_height": null,
            "max_width": null,
            "min_height": null,
            "min_width": null,
            "object_fit": null,
            "object_position": null,
            "order": null,
            "overflow": null,
            "overflow_x": null,
            "overflow_y": null,
            "padding": null,
            "right": null,
            "top": null,
            "visibility": null,
            "width": null
          }
        },
        "e955b8f312914561b081bd8bfaecda04": {
          "model_module": "@jupyter-widgets/controls",
          "model_name": "DescriptionStyleModel",
          "model_module_version": "1.5.0",
          "state": {
            "_model_module": "@jupyter-widgets/controls",
            "_model_module_version": "1.5.0",
            "_model_name": "DescriptionStyleModel",
            "_view_count": null,
            "_view_module": "@jupyter-widgets/base",
            "_view_module_version": "1.2.0",
            "_view_name": "StyleView",
            "description_width": ""
          }
        },
        "479ebcb6c5ef41358b1e79cd3113e0d7": {
          "model_module": "@jupyter-widgets/controls",
          "model_name": "HBoxModel",
          "model_module_version": "1.5.0",
          "state": {
            "_dom_classes": [],
            "_model_module": "@jupyter-widgets/controls",
            "_model_module_version": "1.5.0",
            "_model_name": "HBoxModel",
            "_view_count": null,
            "_view_module": "@jupyter-widgets/controls",
            "_view_module_version": "1.5.0",
            "_view_name": "HBoxView",
            "box_style": "",
            "children": [
              "IPY_MODEL_d3fdc910d50143d4bce81e90dfad0317",
              "IPY_MODEL_5d2b082a780e412ab1fa63ffc8944df5",
              "IPY_MODEL_978e894f2be04929b4828ae1b651eb9e"
            ],
            "layout": "IPY_MODEL_52fef78b35844e428ab70c42d826038c"
          }
        },
        "d3fdc910d50143d4bce81e90dfad0317": {
          "model_module": "@jupyter-widgets/controls",
          "model_name": "HTMLModel",
          "model_module_version": "1.5.0",
          "state": {
            "_dom_classes": [],
            "_model_module": "@jupyter-widgets/controls",
            "_model_module_version": "1.5.0",
            "_model_name": "HTMLModel",
            "_view_count": null,
            "_view_module": "@jupyter-widgets/controls",
            "_view_module_version": "1.5.0",
            "_view_name": "HTMLView",
            "description": "",
            "description_tooltip": null,
            "layout": "IPY_MODEL_eb9676272e574c3da37efad8d1558247",
            "placeholder": "​",
            "style": "IPY_MODEL_671e8735b08647298b0701ba738bd0f5",
            "value": "Map: 100%"
          }
        },
        "5d2b082a780e412ab1fa63ffc8944df5": {
          "model_module": "@jupyter-widgets/controls",
          "model_name": "FloatProgressModel",
          "model_module_version": "1.5.0",
          "state": {
            "_dom_classes": [],
            "_model_module": "@jupyter-widgets/controls",
            "_model_module_version": "1.5.0",
            "_model_name": "FloatProgressModel",
            "_view_count": null,
            "_view_module": "@jupyter-widgets/controls",
            "_view_module_version": "1.5.0",
            "_view_name": "ProgressView",
            "bar_style": "success",
            "description": "",
            "description_tooltip": null,
            "layout": "IPY_MODEL_3c2e9b08a6274ca6bd38edd257bef968",
            "max": 825,
            "min": 0,
            "orientation": "horizontal",
            "style": "IPY_MODEL_f3479b96ec8c40c785fa7f20dedfb925",
            "value": 825
          }
        },
        "978e894f2be04929b4828ae1b651eb9e": {
          "model_module": "@jupyter-widgets/controls",
          "model_name": "HTMLModel",
          "model_module_version": "1.5.0",
          "state": {
            "_dom_classes": [],
            "_model_module": "@jupyter-widgets/controls",
            "_model_module_version": "1.5.0",
            "_model_name": "HTMLModel",
            "_view_count": null,
            "_view_module": "@jupyter-widgets/controls",
            "_view_module_version": "1.5.0",
            "_view_name": "HTMLView",
            "description": "",
            "description_tooltip": null,
            "layout": "IPY_MODEL_f555b296dafb4307907ddf20564b04b6",
            "placeholder": "​",
            "style": "IPY_MODEL_b539c1e60f0844c4a804eea5f0ec22da",
            "value": " 825/825 [00:01&lt;00:00, 785.30 examples/s]"
          }
        },
        "52fef78b35844e428ab70c42d826038c": {
          "model_module": "@jupyter-widgets/base",
          "model_name": "LayoutModel",
          "model_module_version": "1.2.0",
          "state": {
            "_model_module": "@jupyter-widgets/base",
            "_model_module_version": "1.2.0",
            "_model_name": "LayoutModel",
            "_view_count": null,
            "_view_module": "@jupyter-widgets/base",
            "_view_module_version": "1.2.0",
            "_view_name": "LayoutView",
            "align_content": null,
            "align_items": null,
            "align_self": null,
            "border": null,
            "bottom": null,
            "display": null,
            "flex": null,
            "flex_flow": null,
            "grid_area": null,
            "grid_auto_columns": null,
            "grid_auto_flow": null,
            "grid_auto_rows": null,
            "grid_column": null,
            "grid_gap": null,
            "grid_row": null,
            "grid_template_areas": null,
            "grid_template_columns": null,
            "grid_template_rows": null,
            "height": null,
            "justify_content": null,
            "justify_items": null,
            "left": null,
            "margin": null,
            "max_height": null,
            "max_width": null,
            "min_height": null,
            "min_width": null,
            "object_fit": null,
            "object_position": null,
            "order": null,
            "overflow": null,
            "overflow_x": null,
            "overflow_y": null,
            "padding": null,
            "right": null,
            "top": null,
            "visibility": null,
            "width": null
          }
        },
        "eb9676272e574c3da37efad8d1558247": {
          "model_module": "@jupyter-widgets/base",
          "model_name": "LayoutModel",
          "model_module_version": "1.2.0",
          "state": {
            "_model_module": "@jupyter-widgets/base",
            "_model_module_version": "1.2.0",
            "_model_name": "LayoutModel",
            "_view_count": null,
            "_view_module": "@jupyter-widgets/base",
            "_view_module_version": "1.2.0",
            "_view_name": "LayoutView",
            "align_content": null,
            "align_items": null,
            "align_self": null,
            "border": null,
            "bottom": null,
            "display": null,
            "flex": null,
            "flex_flow": null,
            "grid_area": null,
            "grid_auto_columns": null,
            "grid_auto_flow": null,
            "grid_auto_rows": null,
            "grid_column": null,
            "grid_gap": null,
            "grid_row": null,
            "grid_template_areas": null,
            "grid_template_columns": null,
            "grid_template_rows": null,
            "height": null,
            "justify_content": null,
            "justify_items": null,
            "left": null,
            "margin": null,
            "max_height": null,
            "max_width": null,
            "min_height": null,
            "min_width": null,
            "object_fit": null,
            "object_position": null,
            "order": null,
            "overflow": null,
            "overflow_x": null,
            "overflow_y": null,
            "padding": null,
            "right": null,
            "top": null,
            "visibility": null,
            "width": null
          }
        },
        "671e8735b08647298b0701ba738bd0f5": {
          "model_module": "@jupyter-widgets/controls",
          "model_name": "DescriptionStyleModel",
          "model_module_version": "1.5.0",
          "state": {
            "_model_module": "@jupyter-widgets/controls",
            "_model_module_version": "1.5.0",
            "_model_name": "DescriptionStyleModel",
            "_view_count": null,
            "_view_module": "@jupyter-widgets/base",
            "_view_module_version": "1.2.0",
            "_view_name": "StyleView",
            "description_width": ""
          }
        },
        "3c2e9b08a6274ca6bd38edd257bef968": {
          "model_module": "@jupyter-widgets/base",
          "model_name": "LayoutModel",
          "model_module_version": "1.2.0",
          "state": {
            "_model_module": "@jupyter-widgets/base",
            "_model_module_version": "1.2.0",
            "_model_name": "LayoutModel",
            "_view_count": null,
            "_view_module": "@jupyter-widgets/base",
            "_view_module_version": "1.2.0",
            "_view_name": "LayoutView",
            "align_content": null,
            "align_items": null,
            "align_self": null,
            "border": null,
            "bottom": null,
            "display": null,
            "flex": null,
            "flex_flow": null,
            "grid_area": null,
            "grid_auto_columns": null,
            "grid_auto_flow": null,
            "grid_auto_rows": null,
            "grid_column": null,
            "grid_gap": null,
            "grid_row": null,
            "grid_template_areas": null,
            "grid_template_columns": null,
            "grid_template_rows": null,
            "height": null,
            "justify_content": null,
            "justify_items": null,
            "left": null,
            "margin": null,
            "max_height": null,
            "max_width": null,
            "min_height": null,
            "min_width": null,
            "object_fit": null,
            "object_position": null,
            "order": null,
            "overflow": null,
            "overflow_x": null,
            "overflow_y": null,
            "padding": null,
            "right": null,
            "top": null,
            "visibility": null,
            "width": null
          }
        },
        "f3479b96ec8c40c785fa7f20dedfb925": {
          "model_module": "@jupyter-widgets/controls",
          "model_name": "ProgressStyleModel",
          "model_module_version": "1.5.0",
          "state": {
            "_model_module": "@jupyter-widgets/controls",
            "_model_module_version": "1.5.0",
            "_model_name": "ProgressStyleModel",
            "_view_count": null,
            "_view_module": "@jupyter-widgets/base",
            "_view_module_version": "1.2.0",
            "_view_name": "StyleView",
            "bar_color": null,
            "description_width": ""
          }
        },
        "f555b296dafb4307907ddf20564b04b6": {
          "model_module": "@jupyter-widgets/base",
          "model_name": "LayoutModel",
          "model_module_version": "1.2.0",
          "state": {
            "_model_module": "@jupyter-widgets/base",
            "_model_module_version": "1.2.0",
            "_model_name": "LayoutModel",
            "_view_count": null,
            "_view_module": "@jupyter-widgets/base",
            "_view_module_version": "1.2.0",
            "_view_name": "LayoutView",
            "align_content": null,
            "align_items": null,
            "align_self": null,
            "border": null,
            "bottom": null,
            "display": null,
            "flex": null,
            "flex_flow": null,
            "grid_area": null,
            "grid_auto_columns": null,
            "grid_auto_flow": null,
            "grid_auto_rows": null,
            "grid_column": null,
            "grid_gap": null,
            "grid_row": null,
            "grid_template_areas": null,
            "grid_template_columns": null,
            "grid_template_rows": null,
            "height": null,
            "justify_content": null,
            "justify_items": null,
            "left": null,
            "margin": null,
            "max_height": null,
            "max_width": null,
            "min_height": null,
            "min_width": null,
            "object_fit": null,
            "object_position": null,
            "order": null,
            "overflow": null,
            "overflow_x": null,
            "overflow_y": null,
            "padding": null,
            "right": null,
            "top": null,
            "visibility": null,
            "width": null
          }
        },
        "b539c1e60f0844c4a804eea5f0ec22da": {
          "model_module": "@jupyter-widgets/controls",
          "model_name": "DescriptionStyleModel",
          "model_module_version": "1.5.0",
          "state": {
            "_model_module": "@jupyter-widgets/controls",
            "_model_module_version": "1.5.0",
            "_model_name": "DescriptionStyleModel",
            "_view_count": null,
            "_view_module": "@jupyter-widgets/base",
            "_view_module_version": "1.2.0",
            "_view_name": "StyleView",
            "description_width": ""
          }
        }
      }
    }
  },
  "cells": [
    {
      "cell_type": "code",
      "source": [
        "!pip install -q datasets"
      ],
      "metadata": {
        "id": "8aYQcV7xZyhK"
      },
      "execution_count": 1,
      "outputs": []
    },
    {
      "cell_type": "code",
      "source": [
        "import numpy as np\n",
        "import datasets\n",
        "from collections import Counter\n",
        "import pandas as pd\n",
        "import seaborn as sns\n",
        "import matplotlib.pyplot as plt\n",
        "import re\n",
        "\n",
        "from transformers import BertTokenizer,BertModel\n",
        "import torch\n",
        "from torch.utils.data import DataLoader\n",
        "from tqdm import tqdm\n",
        "\n",
        "import os\n",
        "os.environ['CUDA_LAUNCH_BLOCKING']=\"1\""
      ],
      "metadata": {
        "id": "Zsd10p6bcbjS"
      },
      "execution_count": 2,
      "outputs": []
    },
    {
      "cell_type": "code",
      "source": [
        "dataset = datasets.load_dataset('lex_glue', 'ecthr_a')\n",
        "dataset"
      ],
      "metadata": {
        "colab": {
          "base_uri": "https://localhost:8080/"
        },
        "id": "diksw0lDZSMy",
        "outputId": "32911738-ee81-42e5-e994-0b1048a395c2"
      },
      "execution_count": 3,
      "outputs": [
        {
          "output_type": "stream",
          "name": "stderr",
          "text": [
            "/usr/local/lib/python3.10/dist-packages/huggingface_hub/utils/_token.py:72: UserWarning: \n",
            "The secret `HF_TOKEN` does not exist in your Colab secrets.\n",
            "To authenticate with the Hugging Face Hub, create a token in your settings tab (https://huggingface.co/settings/tokens), set it as secret in your Google Colab and restart your session.\n",
            "You will be able to reuse this secret in all of your notebooks.\n",
            "Please note that authentication is recommended but still optional to access public models or datasets.\n",
            "  warnings.warn(\n"
          ]
        },
        {
          "output_type": "execute_result",
          "data": {
            "text/plain": [
              "DatasetDict({\n",
              "    train: Dataset({\n",
              "        features: ['text', 'labels'],\n",
              "        num_rows: 9000\n",
              "    })\n",
              "    test: Dataset({\n",
              "        features: ['text', 'labels'],\n",
              "        num_rows: 1000\n",
              "    })\n",
              "    validation: Dataset({\n",
              "        features: ['text', 'labels'],\n",
              "        num_rows: 1000\n",
              "    })\n",
              "})"
            ]
          },
          "metadata": {},
          "execution_count": 3
        }
      ]
    },
    {
      "cell_type": "markdown",
      "source": [
        "# Data Understanding"
      ],
      "metadata": {
        "id": "LZThRcEdbwAx"
      }
    },
    {
      "cell_type": "code",
      "source": [
        "dataset['train']['text'][0]"
      ],
      "metadata": {
        "colab": {
          "base_uri": "https://localhost:8080/"
        },
        "id": "Giwkwfy0Z6Gv",
        "outputId": "420e041c-0ec3-4af9-d9fa-6c79074e914f"
      },
      "execution_count": 4,
      "outputs": [
        {
          "output_type": "execute_result",
          "data": {
            "text/plain": [
              "['11.  At the beginning of the events relevant to the application, K. had a daughter, P., and a son, M., born in 1986 and 1988 respectively. P.’s father is X and M.’s father is V. From March to May 1989 K. was voluntarily hospitalised for about three months, having been diagnosed as suffering from schizophrenia. From August to November 1989 and from December 1989 to March 1990, she was again hospitalised for periods of about three months on account of this illness. In 1991 she was hospitalised for less than a week, diagnosed as suffering from an atypical and undefinable psychosis. It appears that social welfare and health authorities have been in contact with the family since 1989.',\n",
              " '12.  The applicants initially cohabited from the summer of 1991 to July 1993. In 1991 both P. and M. were living with them. From 1991 to 1993 K. and X were involved in a custody and access dispute concerning P. In May 1992 a residence order was made transferring custody of P. to X.',\n",
              " '13.  K. was again hospitalised from 22 April to 7 May 1992, from 13 May to 10 June 1992, and from 11 to 17 January 1993, on account of psychoses. She was in compulsory care between 15 May and 10 June 1992. According to a medical report dated 15 May 1992, K. was paranoid and psychotic.',\n",
              " '14.  On 19 March 1993, according to the social welfare authorities’ records, a discussion took place between a social worker and K.’s mother. K.’s mother said that her daughter’s health condition was really bad and that K. had destroyed a childhood picture of hers, a wedding photo of the mother, broken a glass and “pierced the eyes” of all appearing in the photos. K.’s mother had said that she was tired of the situation, as she did not get any support from the mental health authorities. She added that she was worried and afraid that “again something must happen before K. is admitted to care”.\\nOn 24 March 1993 K. was placed under observation with a view to determining whether she should be placed in compulsory psychiatric care, having initially been diagnosed as suffering from psychosis. The conditions for compulsory care were not considered to be met but she remained in voluntary care until 5 May 1993.',\n",
              " '15.  Allegedly, X did not allow K., P. and M. to meet. On 11 May 1993, when K. was again pregnant, her access to P. was further limited by an order of the District Court of R. Basing itself on a doctor’s opinion, the court held that the child’s mental development would be endangered if the meetings between P. and K. continued without supervision as had been ordered in 1992.',\n",
              " '16.  According to the records of the social welfare authorities, M. showed signs of behavioural problems. On 30 March 1992 a psychologist reported how M. had played with two dolls saying – in very vulgar terms – that they were performing sexual acts. On 17 February 1993 K. was said to have broken a mirror in the presence of M. who had kept repeating: “mummy broke the mirror ...”\\nNotes of the social authorities of 24 and 30 March 1993 among others state that games which M. played and pictures he drew were of a destructive nature. According to the notes taken on 30 March, he had lately, while the children were singing together at the day-care nursery, shown immense hatred, threatening “to kill everybody”. The occasions when K. fetched him were described as “unpleasant scenes”, M. shouting and hitting his mother who did not react. It was noted, however, that he no longer played doll games with sexual connotations.',\n",
              " '17.  According to the records of the social welfare authorities, a discussion between K., her mother, T. and a number of social and mental-health care officials took place on 31 March 1993, during which it was mentioned that the authorities might have to intervene in M.’s upbringing, from the child-protection point of view, in a more drastic way than had been the case so far. It appeared that in connection with K.’s recent hospitalisation T. had “forcibly” taken her from a restaurant, which had made K. furious, with the consequence that she had thrown things around; for example, the microwave oven had ended up on the floor. T. had said that K. was unable to control herself.',\n",
              " '18.  On the following day the child welfare support group, consisting of various social and health authorities, agreed that the aim should be to place M. in a children’s home for three months as an assistance measure of open care under section 14 of the 1983 Child Welfare Act (lastensuojelulaki, barnskyddslag 683/1983 – “the 1983 Act”), during which period psychological examinations of the child would be carried out.',\n",
              " '19.  On 3 May 1993 a social welfare official decided on behalf of the Social Welfare Board (perusturvalautakunta, grundtrygghetsnämnden) of S. to place M. in a children’s home for a period of three months. This was to be regarded as a short-term support measure pursuant to the 1983 Act. The applicants had been consulted, together with K.’s mother and sister, on 8 April 1993, in order to find an open-care measure which would be practicable. According to the records of that meeting, no such practical measure had been proposed by any of the participants. The applicants had then been heard again on 21 April 1993 and had not objected to the placing of M. in a children’s home.',\n",
              " '20.  In an opinion of 12 May 1993, requested by the Social Welfare Board, doctors M.L. and K.R. considered that K. was not at that time able to care for M., but that her mental state would not necessarily permanently prevent her from caring for him. Doctors M.L. and K.R. worked at the hospital of H., where K. had been cared for since 1991 during the periods indicated above.',\n",
              " '21.  On 7 June 1993 it was reported by the social welfare authorities that, when K. and T. had come to the children’s home where M. was staying, the boy had undergone a total change in his behaviour, characterised by anger, hatred, swearing, etc. T. had said that he was really tired of the situation and that in his view K. was in need of hospitalisation. When a visit to the health centre had been suggested to her, she had become very angry.\\nAccording to a statement of 22 June 1993 by the children’s home, K. and T. had come to the home on 17 June 1993. While T. had been playing with M., other children had come to tell the staff that K. had asked a 3-year-old girl what her name was. As the girl did not reply, K. had raised her voice and shaken the girl, not letting her go until an older girl had given the child’s name. The other children had been frightened by K.’s behaviour.',\n",
              " '22.  On 11 June 1993 the social welfare official who had decided on 3 May 1993 to place M. in a children’s home informed the University Hospital of T. and the local hospital of S. in writing that she was very worried about the health of K. and the baby she was carrying. She requested the hospitals to contact her as soon as K. arrived at the hospital and, more particularly, at the time of the baby’s delivery. She also expressed the wish that health-care professionals should pay special attention to the relationship between the mother and the new-born baby from the very beginning.',\n",
              " '23.  On 18 June 1993 K. was taken to a district hospital, where she gave birth to J. on the same day. According to the hospital records, the mother stayed calm during the delivery. After the delivery a written decision concerning an emergency care order was served on the hospital. The child was taken to the children’s ward. The mother’s behaviour in the ward was later found to be somewhat restless but not completely disorderly. The hospital records indicate that she understood the situation and wanted to leave hospital the following day. Medication to prevent the secretion of milk was prescribed. It seems that K. left the hospital on 19 June 1993, that is, the following morning, without any post-natal examination. She went to her mother’s home, where she started pushing an empty pram around the place.',\n",
              " '24.  J. was immediately placed in emergency care, pursuant to section 18 of the 1983 Act. After the birth of their child, K. and T. were informed of this decision by two social workers at the hospital of H. The Social Director, who had made the decision on behalf of the Social Welfare Board, noted that K.’s mental state had been unstable during the last stages of her pregnancy. He considered that the baby’s health would be endangered since K. had found out about the plans to place the baby in public care. Lastly, he considered that the baby’s father, T., could not guarantee its development and safety. In addition the Social Director referred to the family’s long-standing difficulties, namely, K.’s serious illness and occasionally uncontrolled emotional reactions which could be traumatic for the children, T.’s inability to care for both J. and K., K.’s reluctance to accept guidance, the impossibility of putting the whole responsibility for J.’s development on T., and the impossibility of providing open-care support measures to the necessary extent. The applicants were not heard prior to the decision. On 24 June 1993 the applicants were notified in writing of the decision to take the new-born baby into public care. The notification was also faxed to K.',\n",
              " '25.  On 21 June 1993 the Social Director also placed M. in emergency care, citing principally the same reasons as in his decision of 18 June 1993 concerning J.',\n",
              " '26.  The applicants did not appeal against the emergency care orders.',\n",
              " '27.  On 21 June 1993 the Social Welfare Board took note of the emergency care orders and prohibited all unsupervised access between K. on the one hand, and J. and M. on the other. The number of supervised visits, however, was not restricted. The Board decided to continue preparations for taking M. and J. into care.',\n",
              " '28.  A meeting was held by social workers at the family centre on 21 June 1993, before the arrival of the baby from the hospital and in the absence of the applicants. It is mentioned in the report that there was a plan to prohibit the mother’s visits for a month on the ground that her reactions could not be predicted as she had, for example, broken things at home. After this initial period she would be allowed to visit the baby without restriction, but accompanied by her personal nurse. However, this plan was not implemented. The following entry appears in the register for 24 June: “The mother may come with her personal nurse if she wants. Other visitors not allowed for the time being.”',\n",
              " '29.  K. was asked to come with T. to the social welfare office on 22 June 1993 at 11.30 a.m. in order to be informed of the decision of 21 June 1993 by the Social Director concerning M. On 24 June 1993 K. and V. (M.’s biological father) were notified in writing of the decision of 21 June 1993. The notification was also faxed to K.',\n",
              " '30.  On 22 June 1993 K. was hospitalised voluntarily at the hospital of H. on account of psychosis, having obtained a referral from a doctor at a health care centre. She was treated there until 30 June 1993.',\n",
              " '31.  On 23 June 1993 J. was placed in the family centre. T. visited her the same day.',\n",
              " '32.  At the beginning of July 1993 T. left the applicants’ home, having been told by the social welfare officials that he had to break off his relationship with K. “if he wanted to keep” J. The applicants nevertheless continued their relationship.',\n",
              " '33.  On 15 July 1993 the Social Welfare Board gave its decisions taking J. and M. into “normal” public care, giving reasons similar to those mentioned in the emergency care orders (see paragraph 24 above), and prolonged the access restriction until 15 September 1993. K. was allowed to see the children only in the company of her personal nurse. The Board essentially considered that K.’s state of health remained unstable; that she was subject to aggressive and uncontrolled emotional moods; and that public care proceedings were a severe mental ordeal for a patient. As regards J., the Board therefore believed that her personal security could be jeopardised if access were to take place without supervision. As regards M., the Board feared that K.’s visits to the children’s home “could no longer be supervised by its staff, which would not be in his interest”. Before the decisions of 15 July 1993 the applicants had been heard and had expressed their objection to the care decisions envisaged.',\n",
              " '34.  On 15 July 1993 K. visited both her children, accompanied by her personal nurse. The register indicates that it was “a difficult situation”.',\n",
              " '35.  On 19 July 1993 T. moved to the family unit of the family centre with J.',\n",
              " '36.  On 20 July 1993 K. was again hospitalised in voluntary care at the open ward of the hospital of H., suffering from psychosis. She left hospital the following day, however. On 26 July 1993 she was placed under observation with a view to determining whether she should be placed in compulsory psychiatric care. On 30 July 1993 she was committed to compulsory psychiatric care. According to the file, her relatives had earlier been worried about her and had contacted the hospital in order to get her into hospital care. They reported that K. had disappeared from her home, where she had behaved in an unsettled and aggressive manner. Her hospitalisation lasted until 27 October 1993, that is, three months.',\n",
              " '37.  During the period between 18 June and 31 August 1993 K. visited her children at their respective children’s homes. During the visits she was accompanied by her personal nurse from the hospital, who was in contact with the social welfare authorities and arranged the visits having regard to K.’s state of mental health. According to the centre’s register, she visited J. twice during this period.',\n",
              " '38.  According to a statement made by a social worker on 4 August 1993, T. had taken good care of J., first at the hospital until 23 June 1993 and later on at the family centre. It was agreed that J. would stay at the family centre and that T. would visit her every other day. J. would visit her father for the first time from 13 to 15 August 1993, during which time T. would organise her christening. The intention was that the baby could move in with her father later on.',\n",
              " '39.  After T.’s paternity had been established on 13 July 1993, T. and K. were granted joint custody of J. on 4 August 1993.',\n",
              " '40.  T.’s travel expenses to the centre were paid for by the social welfare authorities. From the centre’s records it can be deduced that T. succeeded in creating a relationship with the baby and learned to take good care of her. The home leaves were spent with T. first at his mother’s house and later in his new home.',\n",
              " '41.  On 12 August 1993 the Social Welfare Board referred both public care orders to the County Administrative Court (lääninoikeus, länsrätten) for confirmation, as the applicants had opposed them. In support of its referrals, the Board submitted a statement by a social welfare official dated 25 August 1993, according to which T. would not be able to care both for M. and the new-born J. alone, since K. was living in the same home and had been psychotic for the last four years. T. had been in contact with J. at the children’s home three to four times a week. While staying in a flat attached to a municipal children’s home, he had cared for J. for two whole weeks and had subsequently cared for her three days a week in his new home. The Board had therefore begun investigating whether it would be possible to entrust him with the responsibility for J. with the help of support measures taken by the Board.',\n",
              " '42.  On 9 September 1993 the County Administrative Court confirmed the care order concerning J., considering that K. had been mentally ill; that the applicants had had conflicts “as a result of which T. had moved away from their home at the beginning of July 1993”; that because of K.’s illness and the family’s other problems the applicants had been unable to provide J. with adequate care; that the care support provided to the family had not sufficiently improved the family’s situation and that the measures could not be expected to satisfy J.’s care needs. No hearing was held.',\n",
              " '43.  On 11 November 1993 the County Administrative Court confirmed the care order concerning M., repeating the reasons put forward in its decision of 9 September concerning J. No hearing was held.',\n",
              " '44.  In an appeal to the Supreme Administrative Court (korkein hallinto-oikeus, högsta förvaltningsdomstolen) against the confirmation of the public care order concerning M., the applicants were represented by the Public Legal Adviser (yleinen oikeusavustaja, allmänna rättsbiträdet) of S. The Supreme Administrative Court dismissed the appeal on 23 September 1994.',\n",
              " '45.  On the same date the Supreme Administrative Court extended the time allowed for an appeal by K. against the confirmation of the care order made in respect of J.',\n",
              " '46.  On 18 October 1994 K. appealed against the care order in respect of J. as confirmed by the County Administrative Court on 9 September 1993. On 21 August 1995 the Supreme Administrative Court granted K. cost-free proceedings as from 1 March 1994, appointed Ms Suomela as her representative and upheld the County Administrative Court’s decision of 9 September 1993.',\n",
              " '47.  By a decision of 21 January 1994 the Social Welfare Board placed J. in a foster home in K., a town some 120 km away from the applicants’ home. M. joined her on 7 February 1994. The foster parents had no children of their own. Social welfare officials told the applicants and the foster parents that J.’s and M.’s placement would last “for years”. The applicants had proposed that the children’s public care be implemented in the homes of relatives.',\n",
              " '48.  In the meantime, on 15 August 1993, J. was christened in the presence of K., T. and M.',\n",
              " '49.  A consultation was held at the children’s home, on 18 August 1993, in the presence of T. According to the records, K.’s mental health was very unstable and her psychiatric treatment was expected to have to be continued for four to five years. T., however, had expressed his hopes that K. and he could, together, take care of J. in the future. It was agreed that J. would stay at the children’s home and would visit T. every week from Thursday until Saturday, beginning on 28 August 1993. T. would visit J. on other days, according to an arrangement to be agreed with the children’s home.',\n",
              " '50.  On 14 September 1993 the Social Welfare Board prolonged the access restriction until 15 December 1993.',\n",
              " '51.  The following notes of a social welfare official appear among those in the case records of the Social Welfare Board:\\n“14 September 1993:\\n… 2.  ... In addition, the importance of future access between J. and T. has now been questioned, since J.’s placement in [public foster care] is under preparation. It will be difficult for T. to give up J. ...”\\n“13 October 1993:',\n",
              " '52.  On 27 October 1993 K. was discharged from the hospital of H.',\n",
              " '53.  On 2 February 1994 the Social Welfare Board drew up a plan concerning the implementation of the public care. The applicants’ alternative plan was allegedly ignored. For instance, the children could not meet their maternal grandmother at her home.',\n",
              " '54.  After the adoption of the care plan on 2 February 1994, the applicants requested a relaxation of the access restriction. For example, T. had been permitted to see J. only once a month.',\n",
              " '55.  On 21 March 1994 the applicants requested, inter alia, that the Social Welfare Board should draw up a public care plan aiming at the reunification of the family.',\n",
              " '56.  On 3 May 1994 the social welfare authorities organised a meeting in order to revise the care plan of 2 February 1994. The applicants and their representative did not attend the meeting.',\n",
              " '57.  On 17 May 1994 the Social Director restricted both applicants’ access to the children to one monthly visit at the foster home, to take place under supervision and last three hours. The Social Director considered that the grounds for public care still existed. In his view, although the applicants were dissatisfied with the visits set out in the care plan, affording the children an unlimited right to see their parents would create an obstacle to their successful placement. The applicants appealed.',\n",
              " '58.  On 28 September 1994 the County Administrative Court held an oral hearing concerning the access restriction imposed on 17 May 1994. It took evidence from two psychiatrists, who had interviewed K. One of them, Dr T.I.-E., did not know K. personally but commented on a diagnosis concerning her mental state by indicating that K. had a tendency to react in a psychotic manner to conflict situations. Dr K.P. stated that K.’s state of health did not prevent her from caring for her children. Consequently, if her illness had been the reason for the access restriction, that reason no longer existed.',\n",
              " '59.  In a written expert opinion, requested by the Social Welfare Board and submitted to the County Administrative Court, Dr E.V., a child psychiatrist, expressed the opinion that the children should be permanently cared for by the foster parents and that the applicants’ visits should, for the time being, be discontinued so as to protect the children and the foster parents. According to the applicants, Dr E.V. had not met them or the children, nor had he consulted the other psychiatrists before making his proposal.',\n",
              " '60.  On 11 October 1994 the County Administrative Court upheld the access restriction issued on 17 May 1994. It noted that neither of the witnesses who had been heard orally had been willing to state any opinion as regards the children’s development. It reasoned, inter alia, as follows:\\n“... [By allowing] access to take place once a month and [by allowing contact through correspondence] it will be ensured that the children will retain knowledge about their biological parents. If the grounds for public care later cease to exist, a reunification of the family will thus be possible. ...”',\n",
              " '61.  The County Administrative Court dismissed the applicants’ request for exemption from costs, since the relevant legislation did not cover disputes concerning access restrictions. At the court’s hearing, the applicants were nevertheless assisted by Ms Suomela.',\n",
              " '62.  On 26 May 1994 the applicants requested that the Social Welfare Board discontinue the public care of M. and J.',\n",
              " '63.  On 18 September 1994 the Social Director allegedly told the applicants that any further children born to them would also be placed in public care. According to the Government, the Social Director only told them, when expressly asked, that it was possible that any further children born would be taken into public care.',\n",
              " '64.  In an opinion of 22 September 1994 submitted at the Social Welfare Board’s request, Dr K.P., a psychiatrist, commented on the possibility of revoking the public care orders. She concluded that K.’s mental state would not prevent her from having custody of the children. According to Dr K.P., K.’s efforts to have public care discontinued and access restrictions relaxed showed that she possessed psychological resources. She noted, inter alia, that T. was K.’s closest support in the care and upbringing of the children. In addition, K.’s mother, at the time her guardian ad litem, was ready to help in caring for them. Dr K.P., however, added that she could not, as a psychiatrist for adults, take any stand as regards the interests of the children. Dr K.P.’s opinion was also based on a report submitted by Dr K.Po., a psychologist, who had come to the same conclusion as regards K.’s ability to have custody of her children.',\n",
              " '65.  The Public Legal Adviser advised against requesting revocation of the care orders.',\n",
              " '66.  K. was hospitalised from 15 to 24 February and from 11 April to 29 May 1995, apparently on account of psychosis.',\n",
              " '67.  On 14 March 1995 the Social Welfare Board rejected the applicants’ request of 26 May 1994 that the care order be revoked, stating as follows:\\n“At the moment the health of the children’s mother, K., is better and the family situation has changed in other respects in comparison with the situation in 1993 when the decisions to take the children into care were made.\\n...\\nAccording to Dr K.P., a psychiatrist, K. still has ‘a lot of instability’ in her emotional life as well as fragility, brought about by the last five years’ experiences and the diagnosis of mental illness for which she needs – and will need for a long time to come – therapeutic support and treatment. A regular medication is also needed in order to guarantee her continued well-being and to make it possible for her to manage in open care and to have custody of her children. Dr K.P., however, did not give her more precise opinion as to K.’s ability to take care of and bring up her children even though Dr K.P. was explicitly asked to give such an opinion.',\n",
              " '68.  The applicants appealed on 5 April 1995, requesting that they be granted exemption from costs and afforded free legal representation. They also requested an oral hearing.',\n",
              " '69.  On 7 April 1995 a further child, R., was born to the applicants. Having given birth, K. left the hospital for a while on the same evening with the new-born baby wrapped in a blanket, walking barefoot in the cold weather until the hospital staff realised what had happened and intervened.',\n",
              " '70.  On 13 April 1995 K. was committed to compulsory psychiatric care and treated at the hospital of H. until 29 May 1995, while R. was being cared for by T. According to a psychiatrist’s observation of 10 April 1995, K. “must have been suffering from paranoid schizophrenia for some time”.',\n",
              " '71.  On 15 June 1995 the County Administrative Court granted the applicants exemption from costs and appointed Ms Suomela as their representative in the case concerning their appeal against the Social Welfare Board’s decision of 14 March 1995. It decided not to hold a hearing in respect of the applicants’ request for a revocation of the care orders and provided the parties with an opportunity to supplement their written observations.',\n",
              " '72.  On 28 September 1995 the County Administrative Court rejected the applicants’ appeals of 5 April 1995 without holding an oral hearing. The court noted, inter alia, that according to the medical certificates, K.’s state of health had improved but her emotional life was still unstable. She therefore continued to be in need of psychotherapy and medication. In addition, a further child had been born to the applicants and K. had again been treated at the hospital of H. These two factors had caused an additional strain militating against a revocation of the care orders.',\n",
              " '73.  On 17 November 1994 social welfare officials revised the public care plan, proposing that the children meet the applicants once a month on neutral premises at the Family Advice Centre of K., where the foster parents were living. The applicants objected to this proposal, considering that it would have entailed a further restriction of their access to the children. Instead, they requested two meetings a month, one of which was to be at their place of residence. On 22 December 1994 they asked for a separate written decision concerning their access request, so that they could appeal against it.',\n",
              " '74.  In a letter of 22 December 1994 the Social Director informed the applicants that there were no longer any grounds for the access restriction. Meetings between the applicants and the children were nevertheless only authorised for three hours once a month on premises chosen by the Social Welfare Board. They were also informed that the meetings would be supervised.',\n",
              " '75.  In his decision of 11 January 1995 the Social Director confirmed that there were no longer any grounds for the access restriction. On 31 January and 28 February 1995 the Social Welfare Board confirmed the decision of 11 January 1995. The applicants appealed.',\n",
              " '76.  As regards the applicants’ appeal against the Social Welfare Board’s decisions of 31 January and 28 February 1995, the County Administrative Court considered, on 15 June 1995, that the revised care plan drawn up on 17 November 1994 had already entailed an access restriction which had later been renewed by further decisions, without the applicants having been properly heard, in respect of their access request. The matter was referred back to the Social Welfare Board for further consideration.',\n",
              " '77.  In the light of the County Administrative Court’s decision the Acting Social Director, on 28 June 1995, formally restricted the applicants’ access to the children to one meeting a month up to 31 May 1996. The meetings were to take place in the foster home. In addition, the foster parents were to visit the applicants with the children every six months. The Director considered, inter alia, that it was important that the children settle themselves in the foster family environment in which they would grow up. Closer contacts with their parents would mean change and insecurity as well as the creation of a new crisis in their development. The process of settling which had started well would be jeopardised. For the children’s progress it was therefore necessary that their situation remain stable and secure. The Director’s decision was confirmed by the Social Welfare Board on 22 August 1995. The applicants appealed.',\n",
              " '78.  On 3 November 1995 the County Administrative Court rejected the applicants’ appeal against the access restriction confirmed on 22 August 1995.',\n",
              " '79.  On 25 May 1996 social welfare officials revised the public care plan, proposing that the children meet the applicants once a month on the premises of a school at the children’s place of residence. As the applicants were not present when the proposal was made, the care plan was again revised on 9 October 1996 in so far as the access restriction was concerned. The applicants then proposed that the children meet them without supervision once a month. The public care plan was, however, revised as proposed by the social welfare officials.',\n",
              " '80.  On 17 June 1996 the Social Director restricted both applicants’ access to the children, until 30 November 1997, to one monthly visit on the premises of a school at the children’s place of residence, where access was to take place under supervision for three hours. One of the foster parents was also ordered to be present at the time of the access. The Social Director’s decision was confirmed by the Social Welfare Board on 20 August 1996. The applicants’ appealed against the decision to the County Administrative Court, requesting an oral hearing. The court obtained a statement from a child psychiatrist, Dr J.P., who was also recommended by the applicants’ representative to the Social Welfare Board. Dr J.P.’s statement included the following observations:\\n“The right of access of M. and J. to the persons close to them must primarily be examined in the light of their psychological growth and development and their health. This requires an examination of the quality, permanence and durability of their human relationships, because psychological growth and development take place in interaction with human relationships. In my opinion, the human relationships are to be examined from the children’s point of view. ...\\n... In conclusion, I note that before M. was placed in the children’s home ... the mother had been in psychiatric hospital for treatment eight times, making a total of thirteen months. Thus, M. had lived with his mother for forty-five months, namely, three years and nine months. The longest that they spent together was two years and one month. ... T. has, as ‘stepfather’, helped to look after M. for at most ten months. ... the foster parents have so far looked after M. for three years and three months without interruption. ... In practice, M. has not had any kind of relationship with his biological father ... \\nIn the light of the above, I note that the human relationships in M.’s early childhood have, owing to the circumstances, been non-continuous, short-term and changing. The most stable and continuous relationships have been with his foster parents ... Therefore, these relationships are the most relevant and important ones for M.’s psychological growth and development.\\n... J. was born in June 1993. She was taken into public care immediately after she was born. At first, she stayed in the district hospital for a short time, and later at a reception home for small children. T., as the biological father of J., looked after her for two weeks in June and August 1993. J. was placed in the foster family ... in January 1994, when she was some seven months old. So far, J. has stayed with her foster family for some three years and three months without interruption. J. is now a little over 3 years and 10 months old.\\nIn the light of the above, I note that, due to the circumstances, J. has not had any significant and important relationships other than those with her foster parents. J.’s relationship with her foster parents is of primary importance for her psychological growth and development. ...\\n... From the children’s point of view, especially, but naturally also from that of the foster parents, the foster family is a family to which the principles concerning family life enshrined in the United Nations Convention on the Rights of the Child and in the European Convention on Human Rights can be applied in the same way as to biological families. This point of view is especially important when, due to the circumstances, the biological family has not lived together.\\nIn the light of the above, I note that the arrangements for helping and supporting the foster parents of M. and J. are in the best interests of the children. The arrangement will, in the first place, ensure the important, continuous and safe human relationships of M. and J. with their foster parents ...\\nIt is also important for M. and J.’s psychological growth and development that, in the safe and stable conditions provided by the foster family, they are able to form and maintain a good internalised picture of their biological parents ... from whom they have been separated because of the circumstances.\\nIn my opinion, this can be done by complying with the decision of the Social Welfare Board of S. of 20 August 1996 concerning the right of access. At present, an unrestricted right of access or a right of access of the extent suggested by the applicants is not in the interests of the children, because K. and T. are not capable of meeting the emotional needs of M. and J. ... Such arrangements concerning the right of access would clearly endanger the health and development of M. and J. In my opinion, the question of an unrestricted right of access should be evaluated when the children have attained the age of 12.”',\n",
              " '81.  In a statement of 10 September 1996 Dr K.P. stated that in her opinion K.’s psychiatric state did not preclude K.’s having custody of her daughter R.',\n",
              " '82.  On 2 April 1997 the care plan was again revised by the social welfare authorities. The applicants had been informed of the time of the meeting concerning the revision of this care plan on home visits on 15 January and 10 March 1997. Their representative had also been informed of the meeting by a letter sent on 10 February 1997. The applicants did not attend the meeting, and neither did their representative. The applicants were thus not explicitly heard in this connection but, as they had expressed their opinion on other occasions, the authorities recorded their point of view in the plan.',\n",
              " '83.  On 12 June 1997 the County Administrative Court rejected the applicants’ appeal against the Social Welfare Board’s decision of 20 August 1996 to restrict the applicants’ access right (see paragraph 80 above). It refused the applicants’ request for an oral hearing.',\n",
              " '84.  Although the applicants had stated only in their reply that the appeal was also made on R.’s behalf, the County Administrative Court found in its decision that it was in part made in her name. The court stated that a person to whom a decision was directed, or upon whose right, duty or interest it had a direct effect, had the right of appeal. The court considered that the Board’s decision, which concerned R.’s siblings’ and parents’ right of access, was not such a decision.',\n",
              " '85.  On 28 November 1997 the Social Director restricted the applicants’, and consequently their youngest child R.’s, access to J. and M. to one monthly visit of three hours on the premises of a school at the children’s place of residence until the end of 1998. The applicants did not appeal.',\n",
              " '86.  The care plan was again revised on 1 December 1998.',\n",
              " '87.  According to a statement made on 3 July 1998 by Dr K.M. (formerly Dr K.P.), K. had not been hospitalised since May 1995 and her health had been stable since the beginning of 1995. There had been no problems concerning the care of R. (who had lived with her parents all the time and had not been taken into care). It was recommended by Dr K.M. that the social welfare authorities should reduce or discontinue control visits to the applicants’ home in order to give K. the possibility of settling down to normal life without constant supervision by the authorities.',\n",
              " '88.  The restriction orders were extended by the Social Director on 11 December 1998, until the end of 2000. The visits were to take place under supervision on the premises of a school at the children’s place of residence. However, one of the visits was to take place at the applicants’ home in the presence of the foster parents. The Social Director considered, inter alia, that the reunification of the family was not in sight as the foster family was now the children’s de facto home; that the applicants’ access to the children once a month and through correspondence was enough to maintain the children’s awareness of their biological parents; and that closer contacts with the applicants would endanger the children’s development, bring change and insecurity and create a new crisis in their development. The applicants appealed against this decision to the Social Welfare Board which, on 2 February 1999, rejected the appeal and upheld the Social Director’s decisions. In its reasoning, the Board quoted both the County Administrative Court and Dr J.P.',\n",
              " '89.  According to the reports drawn up by the supervisor who attended the meetings of the children and the applicants during the period from 25 May 1996 to 10 January 1999, the adults got on quite well together during the meetings. J. often played games with M. When R. was smaller, J. played by herself, but later it seemed that the girls, J. and R., spent more time together. On the other hand, it seemed that the first applicant made very little contact with J. and M. According to the supervisor’s description, especially in the earlier reports, the first applicant seemed to have concentrated on R.',\n",
              " '90.  M. visited K. and T. at their home for the weekend of 21 to 23 July 2000 without supervision.',\n",
              " '91.  The applicants appealed against the Social Welfare Board’s decision of 2 February 1999, concerning the right of access, to the Administrative Court (formerly the County Administrative Court). An oral hearing, at which M. was also heard, was held on 3 October 2000. In its decision of 13 October 2000 the administrative court upheld the Social Welfare Board’s decision.',\n",
              " '92.  The social authorities reviewed the care plan on 23 November 2000, having consulted the applicants, among others. It was decided that the children would remain in the foster home. According to the care plan, M. and J. are allowed to meet K. and T and others close to them, as from 1 January 2001 until 31 December 2001, without supervision once a month alternately at the applicants’ home and the foster parents’ home. The meetings at the applicants’ home will take place from Saturday 11 a.m. until Sunday 4 p.m., and the meetings at the foster parents’ home on Sundays, from 11 a.m. until 5 p.m. The children are also allowed to meet their other relatives freely during those meetings. In addition to the above, the children will also spend a day and a night with the applicants each Christmas, and two weeks each summer during their school holidays.',\n",
              " '93.  J. and M.’s foster mother died in May 2001.']"
            ]
          },
          "metadata": {},
          "execution_count": 4
        }
      ]
    },
    {
      "cell_type": "code",
      "source": [
        "# Unique Labels in data\n",
        "set([j for i in dataset['train']['labels'] for j in i])"
      ],
      "metadata": {
        "colab": {
          "base_uri": "https://localhost:8080/"
        },
        "id": "rX0FLRiYb3As",
        "outputId": "abbcd6c9-e520-43af-a7f8-56fd9a42ddd1"
      },
      "execution_count": 5,
      "outputs": [
        {
          "output_type": "execute_result",
          "data": {
            "text/plain": [
              "{0, 1, 2, 3, 4, 5, 6, 7, 8, 9}"
            ]
          },
          "metadata": {},
          "execution_count": 5
        }
      ]
    },
    {
      "cell_type": "code",
      "source": [
        "# Number of Labels per sample Histogram\n",
        "Counter([len(i) for i in dataset['train']['labels']])"
      ],
      "metadata": {
        "colab": {
          "base_uri": "https://localhost:8080/"
        },
        "id": "an8WJ-26cVUq",
        "outputId": "c0d6e378-a420-4584-d77a-346fae71fecb"
      },
      "execution_count": 6,
      "outputs": [
        {
          "output_type": "execute_result",
          "data": {
            "text/plain": [
              "Counter({1: 5924, 0: 914, 2: 1810, 3: 321, 4: 22, 5: 9})"
            ]
          },
          "metadata": {},
          "execution_count": 6
        }
      ]
    },
    {
      "cell_type": "code",
      "source": [
        "# Number of samples with Missing Labels\n",
        "sum([1 for i in dataset['train']['labels'] if len(i)==0]),sum([1 for i in dataset['test']['labels'] if len(i)==0]),sum([1 for i in dataset['validation']['labels'] if len(i)==0])"
      ],
      "metadata": {
        "colab": {
          "base_uri": "https://localhost:8080/"
        },
        "id": "VBGXR8t6cyLj",
        "outputId": "dbc9829d-f4d1-413a-84f7-183acdcef7f1"
      },
      "execution_count": 7,
      "outputs": [
        {
          "output_type": "execute_result",
          "data": {
            "text/plain": [
              "(914, 153, 175)"
            ]
          },
          "metadata": {},
          "execution_count": 7
        }
      ]
    },
    {
      "cell_type": "markdown",
      "source": [
        "## Cleaning Missing values"
      ],
      "metadata": {
        "id": "Mwal68jKfuoj"
      }
    },
    {
      "cell_type": "code",
      "source": [
        "# Missing Labels\n",
        "def clear_missing_labels(dataset,split):\n",
        "  missing_label_indexes = [index for index,i in enumerate(dataset[split]['labels']) if len(i)==0]\n",
        "  dataset[split] = dataset[split].select((i for i in range(len(dataset[split])) if i not in missing_label_indexes))\n",
        "  return dataset\n",
        "\n",
        "dataset = clear_missing_labels(dataset,'train')\n",
        "dataset = clear_missing_labels(dataset,'test')\n",
        "dataset = clear_missing_labels(dataset,'validation')\n",
        "\n",
        "dataset"
      ],
      "metadata": {
        "colab": {
          "base_uri": "https://localhost:8080/"
        },
        "id": "5k1ZqXrWdAiq",
        "outputId": "9addab60-2b05-4e7c-f146-03c34912f4f3"
      },
      "execution_count": 8,
      "outputs": [
        {
          "output_type": "stream",
          "name": "stderr",
          "text": [
            "Parameter 'indices'=<generator object clear_missing_labels.<locals>.<genexpr> at 0x7bf8b31c12a0> of the transform datasets.arrow_dataset.Dataset.select couldn't be hashed properly, a random hash was used instead. Make sure your transforms and parameters are serializable with pickle or dill for the dataset fingerprinting and caching to work. If you reuse this transform, the caching mechanism will consider it to be different from the previous calls and recompute everything. This warning is only showed once. Subsequent hashing failures won't be showed.\n",
            "WARNING:datasets.fingerprint:Parameter 'indices'=<generator object clear_missing_labels.<locals>.<genexpr> at 0x7bf8b31c12a0> of the transform datasets.arrow_dataset.Dataset.select couldn't be hashed properly, a random hash was used instead. Make sure your transforms and parameters are serializable with pickle or dill for the dataset fingerprinting and caching to work. If you reuse this transform, the caching mechanism will consider it to be different from the previous calls and recompute everything. This warning is only showed once. Subsequent hashing failures won't be showed.\n"
          ]
        },
        {
          "output_type": "execute_result",
          "data": {
            "text/plain": [
              "DatasetDict({\n",
              "    train: Dataset({\n",
              "        features: ['text', 'labels'],\n",
              "        num_rows: 8086\n",
              "    })\n",
              "    test: Dataset({\n",
              "        features: ['text', 'labels'],\n",
              "        num_rows: 847\n",
              "    })\n",
              "    validation: Dataset({\n",
              "        features: ['text', 'labels'],\n",
              "        num_rows: 825\n",
              "    })\n",
              "})"
            ]
          },
          "metadata": {},
          "execution_count": 8
        }
      ]
    },
    {
      "cell_type": "code",
      "source": [
        "# Number of paragraphs in text\n",
        "sns.histplot([len(i) for i in dataset['train']['text']])\n",
        "plt.xlabel('Number of paragraphs per sample')\n",
        "plt.ylabel('Number of samples')\n",
        "plt.show()"
      ],
      "metadata": {
        "colab": {
          "base_uri": "https://localhost:8080/",
          "height": 449
        },
        "id": "M5Ztdsoffz19",
        "outputId": "e9dec56b-fb16-43ac-8756-f72c1c8a44ab"
      },
      "execution_count": 9,
      "outputs": [
        {
          "output_type": "display_data",
          "data": {
            "text/plain": [
              "<Figure size 640x480 with 1 Axes>"
            ],
            "image/png": "[encoded data removed]"
          },
          "metadata": {}
        }
      ]
    },
    {
      "cell_type": "markdown",
      "source": [
        "We may need to truncate the number of pars to 128 for keeping the GPU memory requirements low."
      ],
      "metadata": {
        "id": "Z_sXBYO1l-pl"
      }
    },
    {
      "cell_type": "markdown",
      "source": [
        "### Cleaning the text"
      ],
      "metadata": {
        "id": "Y094ip_xmfP5"
      }
    },
    {
      "cell_type": "code",
      "source": [
        "example = '''1.  The case originated in an application (no. 2333/02) against the Republic of Lithuania lodged with the Court under Article 34 of the Convention for the Protection of Human Rights and Fundamental Freedoms (“the Convention”) by a Lithuanian national, Mr Haroldas Trijonis (“the applicant”), on 19 April 2001. 3.  The application was allocated to the Third Section of the Court (Rule 52 § 1 of the Rules of Court). Within that Section, the Chamber that would consider the case (Article 27 § 1 of the Convention) was constituted as provided in Rule 26 § 1. Mr P. Kūris, the judge elected in respect of Lithuania, withdrew from sitting in the case (Rule 28). The Government accordingly appointed Mr J. Hedigan, the judge elected in respect of Ireland, to sit in his place (Article 27 § 2 of the Convention and Rule 29 § 1). 4.  The applicant complained inter alia that criminal proceedings against him had been excessively long contrary to the requirements of Article 6 of the Convention, and that the remand measure of home arrest ordered in the context of those proceedings had breached Article 5 of the Convention. The applicant made his last communication to the Court by an undated letter received on 24 February 2004, stating that he had maintained his complaints under the Convention. 5.  On 1 November 2004 the Court changed the composition of its Sections (Rule 25 § 1). This case was assigned to the newly composed Third Section (Rule 52 § 1). 7.  By a letter of the Registry of 31 March 2005 the applicant was informed about the decision. It was noted in the letter that the applicant had until 23 May 2005 to submit his observations on the merits, his position on the friendly settlement in the case, and his claims for just satisfaction (Rules 59, 60 and 62 of the Rules of Court). The letter was sent to his home address in Klaipeda by ordinary post. 9.  By a letter of the Registry of 21 June 2005, sent to the applicant’s home address by registered post, the applicant was reminded that he had not submitted a reply to the Court’s letter of 31 March 2005. The applicant’s attention was drawn to Article 37 § 1 (a) of the Convention which provided that the Court could strike the case out of its list of cases where the circumstances led to the conclusion that an applicant did not intend to pursue the application. 10.  On 23 September 2005 a further letter of the Registry was sent to the applicant’s home address by registered post, reiterating the contents of the letters of 31 March and 21 June 2005. 11.  Receipt by the applicant of the registered letters of 21 June and 23 September 2005 was confirmed by the post service. However, the applicant has not replied to any of the above-mentioned letters from the Registry of the Court.'''\n",
        "def split_paras(example):\n",
        "  '''\n",
        "  Some times paras are mixed together. We have to seperate them.\n",
        "  '''\n",
        "  parts = re.split('(\\d+\\.  )',example)\n",
        "  assert len(parts)%2==1\n",
        "  return [parts[i]+parts[i+1] for i in range(1,len(parts),2)] if len(parts)>1 else parts\n",
        "\n",
        "def clean_text(example):\n",
        "  '''\n",
        "  Text appears mostly clean and does not require any cleaning steps, especially if LLMs are going to be used.\n",
        "  '''\n",
        "  s = example.replace('...','').replace('…','').replace('\\n',' ')\n",
        "  s = re.sub('\\s+(?:(?<!\\d\\.)|(?<!\\d\\d\\.)|(?<!\\d\\d\\d\\.))',' ',s)\n",
        "  return s\n",
        "\n",
        "def preprocess(paras):\n",
        "  all_paras = []\n",
        "  for para in paras:\n",
        "    all_paras.extend(split_paras(para))\n",
        "  res = []\n",
        "  for para in all_paras:\n",
        "    clean_para = clean_text(para)\n",
        "    if len(clean_para)>=5:\n",
        "      res.append(clean_para)\n",
        "  return res\n",
        "\n",
        "dataset = dataset.map(lambda x:{'text':preprocess(x['text'])})"
      ],
      "metadata": {
        "colab": {
          "base_uri": "https://localhost:8080/",
          "height": 113,
          "referenced_widgets": [
            "206575f0b4284df3b3f440d73e1d4021",
            "2ab2b1a2e985474784378ede8865857c",
            "f6e6b23fc79a49d985facdcfe19397b0",
            "d8630bab0ded4beebbf3a4b76178a466",
            "1c0fc8d8a2944ef9b90105b602c7ced6",
            "4e03af44d87b4b85860a96512b825fb9",
            "b9f86bb712c74972a9f33b5e51e6abc8",
            "6c7f375cc4f74702b4c8ee4da5a58ed7",
            "f55dd4a3d65e4966b248b5137752fdb9",
            "b16cba858b77469aa32ad7129ae5e5f6",
            "ab9ad7211fad4645ae4717fdac1544ab",
            "fbc4f9baa1a04974b762208ed9fefa86",
            "51632b279cca4cab847a686689dd95ec",
            "1de6920a63c7456a90ecdfe7a69c485a",
            "71b2519e4e5a4799964c5a5baa891781",
            "d10010f8092d4a65babc481c37ad9168",
            "d68724fc86ec4deabfd55165cce7f62c",
            "2330c26b912c4d7a994dcf926f3099fe",
            "584fa1ec8337450fab74ff0934025847",
            "d0b74ecc2f314d08a9aee52f7b4713e4",
            "fb6b030f798a42989289d62fedee4313",
            "e955b8f312914561b081bd8bfaecda04",
            "479ebcb6c5ef41358b1e79cd3113e0d7",
            "d3fdc910d50143d4bce81e90dfad0317",
            "5d2b082a780e412ab1fa63ffc8944df5",
            "978e894f2be04929b4828ae1b651eb9e",
            "52fef78b35844e428ab70c42d826038c",
            "eb9676272e574c3da37efad8d1558247",
            "671e8735b08647298b0701ba738bd0f5",
            "3c2e9b08a6274ca6bd38edd257bef968",
            "f3479b96ec8c40c785fa7f20dedfb925",
            "f555b296dafb4307907ddf20564b04b6",
            "b539c1e60f0844c4a804eea5f0ec22da"
          ]
        },
        "id": "reaJS3iakIkU",
        "outputId": "91d9f082-2e92-4195-fb42-00aa65ab49e0"
      },
      "execution_count": 10,
      "outputs": [
        {
          "output_type": "display_data",
          "data": {
            "text/plain": [
              "Map:   0%|          | 0/8086 [00:00<?, ? examples/s]"
            ],
            "application/vnd.jupyter.widget-view+json": {
              "version_major": 2,
              "version_minor": 0,
              "model_id": "206575f0b4284df3b3f440d73e1d4021"
            }
          },
          "metadata": {}
        },
        {
          "output_type": "display_data",
          "data": {
            "text/plain": [
              "Map:   0%|          | 0/847 [00:00<?, ? examples/s]"
            ],
            "application/vnd.jupyter.widget-view+json": {
              "version_major": 2,
              "version_minor": 0,
              "model_id": "fbc4f9baa1a04974b762208ed9fefa86"
            }
          },
          "metadata": {}
        },
        {
          "output_type": "display_data",
          "data": {
            "text/plain": [
              "Map:   0%|          | 0/825 [00:00<?, ? examples/s]"
            ],
            "application/vnd.jupyter.widget-view+json": {
              "version_major": 2,
              "version_minor": 0,
              "model_id": "479ebcb6c5ef41358b1e79cd3113e0d7"
            }
          },
          "metadata": {}
        }
      ]
    },
    {
      "cell_type": "code",
      "source": [
        "\n",
        "sns.histplot([len(i) for i in dataset['train']['text']])\n",
        "plt.xlabel('Number of paragraphs per sample')\n",
        "plt.ylabel('Number of samples')\n",
        "plt.show()"
      ],
      "metadata": {
        "colab": {
          "base_uri": "https://localhost:8080/",
          "height": 449
        },
        "id": "mbTgdUpJmirY",
        "outputId": "84bf2577-0db8-4470-afd2-65479deeecd7"
      },
      "execution_count": 11,
      "outputs": [
        {
          "output_type": "display_data",
          "data": {
            "text/plain": [
              "<Figure size 640x480 with 1 Axes>"
            ],
            "image/png": "[encoded data removed]"
          },
          "metadata": {}
        }
      ]
    },
    {
      "cell_type": "markdown",
      "source": [
        "# Tokenize and truncate"
      ],
      "metadata": {
        "id": "lOlBVyfeus_E"
      }
    },
    {
      "cell_type": "code",
      "source": [
        "tokenizer = BertTokenizer.from_pretrained('bert-base-cased')"
      ],
      "metadata": {
        "colab": {
          "base_uri": "https://localhost:8080/"
        },
        "id": "ROu9R4R8tEl3",
        "outputId": "8354e9bb-d1d3-4755-de28-f32ad1afad5d"
      },
      "execution_count": 12,
      "outputs": [
        {
          "output_type": "stream",
          "name": "stderr",
          "text": [
            "/usr/local/lib/python3.10/dist-packages/huggingface_hub/utils/_token.py:72: UserWarning: \n",
            "The secret `HF_TOKEN` does not exist in your Colab secrets.\n",
            "To authenticate with the Hugging Face Hub, create a token in your settings tab (https://huggingface.co/settings/tokens), set it as secret in your Google Colab and restart your session.\n",
            "You will be able to reuse this secret in all of your notebooks.\n",
            "Please note that authentication is recommended but still optional to access public models or datasets.\n",
            "  warnings.warn(\n"
          ]
        }
      ]
    },
    {
      "cell_type": "markdown",
      "source": [
        "### Only small number of paragraphs are crossing the context length limit, so we can truncate them to 511 tokens. CLS token will be added to all the paragraphs."
      ],
      "metadata": {
        "id": "C7qjDIn1QSPF"
      }
    },
    {
      "cell_type": "code",
      "source": [
        "model = BertModel.from_pretrained(\"bert-base-cased\")"
      ],
      "metadata": {
        "id": "gNZNKHIARJ7L"
      },
      "execution_count": 13,
      "outputs": []
    },
    {
      "cell_type": "code",
      "source": [
        "def data_collator(x):\n",
        "  # input_ids = [tokenizer(i['text'],padding=True, add_special_tokens=True, truncation=True) for i in x]\n",
        "  tokens = tokenizer([j for i in x for j in i['text']],add_special_tokens=True, padding=True, truncation=True,return_tensors='pt')\n",
        "  lens = [len(i['text']) for i in x]\n",
        "\n",
        "  labels = [[0 for j in range(10)] for i in range(len(x))]\n",
        "  for index,i in enumerate(x):\n",
        "    for j in i['labels']:\n",
        "      labels[index][j]=1\n",
        "  labels =  torch.Tensor(labels)\n",
        "\n",
        "  res = []\n",
        "  count=0\n",
        "  for i,j in zip(lens,labels):\n",
        "    res.append({'input_ids':tokens['input_ids'][count:count+i],\n",
        "                'attention_mask':tokens['attention_mask'][count:count+i],\n",
        "                'token_type_ids':tokens['token_type_ids'][count:count+i],\n",
        "                'labels':j})\n",
        "\n",
        "  return res\n",
        "  # return {'input_ids':input_ids,'attention_mask':attention_mask,'token_type_ids':token_type_ids,'labels':labels}\n",
        "\n",
        "\n",
        "train_dataloader = torch.utils.data.DataLoader(dataset['train'], batch_size=4,collate_fn = data_collator)\n",
        "test_dataloader = torch.utils.data.DataLoader(dataset['test'], batch_size=4,collate_fn = data_collator)\n",
        "validation_dataloader = torch.utils.data.DataLoader(dataset['validation'], batch_size=4,collate_fn = data_collator)"
      ],
      "metadata": {
        "id": "TVXtvU9FRngL"
      },
      "execution_count": 14,
      "outputs": []
    },
    {
      "cell_type": "code",
      "source": [
        "import torch\n",
        "import torch.nn as nn\n",
        "import torch.nn.functional as F\n",
        "from torch.nn import TransformerEncoder, TransformerEncoderLayer\n",
        "device = torch.device('cuda' if  torch.cuda.is_available() else 'cpu')\n",
        "# device = torch.device('cpu')\n",
        "class Classifier(nn.Module):\n",
        "    def __init__(self, input_dim=768, hidden_dim=768, num_classes=10, num_layers=5, num_heads=8, dropout=0.1):\n",
        "        super(Classifier, self).__init__()\n",
        "\n",
        "        self.positional_embedding = nn.Embedding(128, hidden_dim)  # Assuming maximum sequence length of 128\n",
        "        self.transformer_encoder_layer = TransformerEncoderLayer(hidden_dim, num_heads, hidden_dim, dropout)\n",
        "        self.transformer_encoder = TransformerEncoder(self.transformer_encoder_layer, num_layers)\n",
        "        self.fc = nn.Linear(hidden_dim, num_classes,)\n",
        "\n",
        "    def forward(self, x, attention_mask):\n",
        "        seq_len = x.shape[1]\n",
        "        positions = torch.arange(seq_len, device=x.device).unsqueeze(0)\n",
        "        positional_embedded = self.positional_embedding(positions)\n",
        "        embedded = x + positional_embedded\n",
        "        embedded = embedded.permute(1, 0, 2)  # (seq_len, batch_size, hidden_dim)\n",
        "        output = self.transformer_encoder(embedded,src_key_padding_mask = attention_mask)\n",
        "        output = output.permute(1, 0, 2)  # (batch_size, seq_len, hidden_dim)\n",
        "        logits = self.fc(output[:, -1, :])  # Take the last hidden state for classification\n",
        "        # print(logits.shape)\n",
        "        return logits\n",
        "\n",
        "clf=Classifier()\n",
        "clf.to(device)"
      ],
      "metadata": {
        "colab": {
          "base_uri": "https://localhost:8080/"
        },
        "id": "cFWJ0gZOkqxV",
        "outputId": "096e985e-e73d-4bd8-de8a-0690359c579c"
      },
      "execution_count": 15,
      "outputs": [
        {
          "output_type": "stream",
          "name": "stderr",
          "text": [
            "/usr/local/lib/python3.10/dist-packages/torch/nn/modules/transformer.py:282: UserWarning: enable_nested_tensor is True, but self.use_nested_tensor is False because encoder_layer.self_attn.batch_first was not True(use batch_first for better inference performance)\n",
            "  warnings.warn(f\"enable_nested_tensor is True, but self.use_nested_tensor is False because {why_not_sparsity_fast_path}\")\n"
          ]
        },
        {
          "output_type": "execute_result",
          "data": {
            "text/plain": [
              "Classifier(\n",
              "  (positional_embedding): Embedding(128, 768)\n",
              "  (transformer_encoder_layer): TransformerEncoderLayer(\n",
              "    (self_attn): MultiheadAttention(\n",
              "      (out_proj): NonDynamicallyQuantizableLinear(in_features=768, out_features=768, bias=True)\n",
              "    )\n",
              "    (linear1): Linear(in_features=768, out_features=768, bias=True)\n",
              "    (dropout): Dropout(p=0.1, inplace=False)\n",
              "    (linear2): Linear(in_features=768, out_features=768, bias=True)\n",
              "    (norm1): LayerNorm((768,), eps=1e-05, elementwise_affine=True)\n",
              "    (norm2): LayerNorm((768,), eps=1e-05, elementwise_affine=True)\n",
              "    (dropout1): Dropout(p=0.1, inplace=False)\n",
              "    (dropout2): Dropout(p=0.1, inplace=False)\n",
              "  )\n",
              "  (transformer_encoder): TransformerEncoder(\n",
              "    (layers): ModuleList(\n",
              "      (0-4): 5 x TransformerEncoderLayer(\n",
              "        (self_attn): MultiheadAttention(\n",
              "          (out_proj): NonDynamicallyQuantizableLinear(in_features=768, out_features=768, bias=True)\n",
              "        )\n",
              "        (linear1): Linear(in_features=768, out_features=768, bias=True)\n",
              "        (dropout): Dropout(p=0.1, inplace=False)\n",
              "        (linear2): Linear(in_features=768, out_features=768, bias=True)\n",
              "        (norm1): LayerNorm((768,), eps=1e-05, elementwise_affine=True)\n",
              "        (norm2): LayerNorm((768,), eps=1e-05, elementwise_affine=True)\n",
              "        (dropout1): Dropout(p=0.1, inplace=False)\n",
              "        (dropout2): Dropout(p=0.1, inplace=False)\n",
              "      )\n",
              "    )\n",
              "  )\n",
              "  (fc): Linear(in_features=768, out_features=10, bias=True)\n",
              ")"
            ]
          },
          "metadata": {},
          "execution_count": 15
        }
      ]
    },
    {
      "cell_type": "code",
      "source": [
        "def batch_texts(tensors):\n",
        "  max_length = max([tensor.size(0) for tensor in tensors])\n",
        "\n",
        "  # Pad tensors and create attention mask\n",
        "  padded_tensors = []\n",
        "  attention_masks = []\n",
        "  for tensor in tensors:\n",
        "      # Pad tensor with zeros\n",
        "      padded_tensor = torch.zeros(max_length, *tensor.size()[1:])\n",
        "      padded_tensor[:tensor.size(0)] = tensor\n",
        "      padded_tensors.append(padded_tensor)\n",
        "\n",
        "      # Create attention mask\n",
        "      attention_mask = torch.zeros(max_length)\n",
        "      attention_mask[:tensor.size(0)] = 1\n",
        "      attention_masks.append(attention_mask)\n",
        "\n",
        "  # Convert the list of padded tensors and attention masks to tensors\n",
        "  padded_tensor = torch.stack(padded_tensors)\n",
        "  attention_mask = torch.stack(attention_masks)\n",
        "  return padded_tensor.to(device),attention_mask.to(device)\n"
      ],
      "metadata": {
        "id": "xX-w5AnaqugN"
      },
      "execution_count": 16,
      "outputs": []
    },
    {
      "cell_type": "code",
      "source": [
        "model.to(device)\n",
        "import torch.optim as optim\n",
        "\n",
        "def get_x_and_attention_mask(batch,model):\n",
        "  X,y  = [],[]\n",
        "  for microbatch in batch:\n",
        "    with torch.no_grad():\n",
        "      B = microbatch['input_ids'].shape[0]\n",
        "      res = []\n",
        "      for i in range(1+(B//16)):\n",
        "        res.append(model(microbatch['input_ids'][i*16:(i+1)*16].to(device), attention_mask = microbatch['input_ids'][i*16:(i+1)*16].to(device)).pooler_output)\n",
        "      X.append(torch.cat(res))\n",
        "      y.append(microbatch['labels'])\n",
        "  y = torch.stack(y).to(device)\n",
        "  x,attention_mask = batch_texts(X)\n",
        "  return x,attention_mask,y\n",
        "\n",
        "\n"
      ],
      "metadata": {
        "id": "1r0JDpS-TQqj"
      },
      "execution_count": 17,
      "outputs": []
    },
    {
      "cell_type": "code",
      "source": [
        "import torch\n",
        "import torch.nn as nn\n",
        "import torch.optim as optim\n",
        "\n",
        "def train(model, clf, train_loader, val_loader, criterion, optimizer, num_epochs):\n",
        "    model.to(device)\n",
        "\n",
        "    for epoch in range(num_epochs):\n",
        "        # Training\n",
        "        model.train()\n",
        "        train_loss = 0.0\n",
        "        train_correct = 0\n",
        "        train_total = 0\n",
        "\n",
        "        for batch in tqdm(train_dataloader):\n",
        "\n",
        "            x,attention_mask,labels = get_x_and_attention_mask(batch,model)\n",
        "\n",
        "            optimizer.zero_grad()\n",
        "\n",
        "            outputs = clf(x,attention_mask)\n",
        "\n",
        "\n",
        "\n",
        "            loss = criterion(outputs, labels)\n",
        "            loss.backward()\n",
        "            optimizer.step()\n",
        "\n",
        "\n",
        "\n",
        "            train_loss += loss.item() * x.size(0)\n",
        "\n",
        "        train_loss /= train_total\n",
        "\n",
        "        # Validation\n",
        "        model.eval()\n",
        "        val_loss = 0.0\n",
        "        val_correct = 0\n",
        "        val_total = 0\n",
        "\n",
        "        with torch.no_grad():\n",
        "            for batch in tqdm(val_loader):\n",
        "                x,attention_mask,labels = get_x_and_attention_mask(batch,model)\n",
        "\n",
        "                outputs = clf(x,attention_mask)\n",
        "                loss = criterion(outputs, labels)\n",
        "                val_loss += loss.item() * x.size(0)\n",
        "\n",
        "        val_loss /= val_total\n",
        "\n",
        "        print(f\"Epoch {epoch+1}/{num_epochs}:\")\n",
        "        print(f\"Train Loss: {train_loss:.4f}\")\n",
        "        print(f\"Val Loss: {val_loss:.4f} \")\n",
        "        print()\n"
      ],
      "metadata": {
        "id": "lCq7aGV5bBvM"
      },
      "execution_count": 18,
      "outputs": []
    },
    {
      "cell_type": "code",
      "source": [
        "optimizer = optim.Adam(clf.parameters(),lr=0.0001)\n",
        "criterion = nn.BCEWithLogitsLoss()\n",
        "train(model,clf,train_dataloader,validation_dataloader,criterion,optimizer,10)"
      ],
      "metadata": {
        "colab": {
          "base_uri": "https://localhost:8080/"
        },
        "id": "Pp_siaRsewdE",
        "outputId": "bc01a548-a929-48bc-9afc-9e9d77c4fca6"
      },
      "execution_count": null,
      "outputs": [
        {
          "output_type": "stream",
          "name": "stderr",
          "text": [
            "  1%|          | 12/2022 [00:32<1:05:15,  1.95s/it]"
          ]
        }
      ]
    },
    {
      "cell_type": "code",
      "source": [],
      "metadata": {
        "id": "jk5t7iheieEr"
      },
      "execution_count": null,
      "outputs": []
    }
  ]
}